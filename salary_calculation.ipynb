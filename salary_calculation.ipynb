{
 "cells": [
  {
   "cell_type": "code",
   "execution_count": null,
   "id": "b9acd84a",
   "metadata": {},
   "outputs": [],
   "source": [
    "class Employee:\n",
    "    def __init__(self, name, emp_id):\n",
    "        self.name = name\n",
    "        self.emp_id = emp_id\n",
    "\n",
    "    def calculate_salary(self):\n",
    "        raise NotImplementedError(\"Subclass must implement abstract method\")\n",
    "\n",
    "    def __str__(self):\n",
    "        return f\"{self.name} (ID: {self.emp_id})\"\n",
    "\n",
    "class FullTimeEmployee(Employee):\n",
    "    def __init__(self, name, emp_id,salary):\n",
    "        super().__init__(name,emp_id)\n",
    "        self.salary = salary\n",
    "\n",
    "    def calculate_salary(self):\n",
    "        return self.salary\n",
    "\n",
    "class ContractedEmloyee(Employee):\n",
    "    def __init__(self, name, emp_id,pay_per_hour,hour_worked):\n",
    "        super().__init__(name,emp_id)\n",
    "        self.pay_per_hour = pay_per_hour\n",
    "        self.hour_worked = hour_worked\n",
    "\n",
    "    def calculate_salary(self):\n",
    "        return self.hour_worked*self.pay_per_hour\n",
    "        \n",
    "if __name__ == \"__main__\":\n",
    "    emp1 = FullTimeEmployee(\"Ibad\",\"AI01\",500000)\n",
    "    emp2 = ContractedEmloyee(\"Shuhood\",\"AI02\",1500,160)\n",
    "\n",
    "    employees = [emp1,emp2]\n",
    "    print(\"Employee Salaries:\")\n",
    "    for emp in employees:\n",
    "        print(f'{emp}: ${emp.calculate_salary()}')"
   ]
  },
  {
   "cell_type": "code",
   "execution_count": null,
   "id": "e94ea2e1",
   "metadata": {},
   "outputs": [],
   "source": []
  }
 ],
 "metadata": {
  "language_info": {
   "name": "python"
  }
 },
 "nbformat": 4,
 "nbformat_minor": 5
}
