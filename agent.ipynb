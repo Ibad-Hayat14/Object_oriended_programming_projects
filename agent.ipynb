{
 "cells": [
  {
   "cell_type": "code",
   "execution_count": 1,
   "id": "c7cb0040",
   "metadata": {},
   "outputs": [],
   "source": [
    "class Agent:\n",
    "    def __init__(self, name, level):\n",
    "        self.name = name\n",
    "        self.level = level\n",
    "        self.__secret_key = \"AGENT-\" + name[:2].upper()  # Data hiding\n",
    "\n",
    "    def assign_task(self, task):\n",
    "        print(f\"{self.name} is assigned task: {task.title}\")\n",
    "\n",
    "    def describe(self):\n",
    "        print(f\"{self.name} (Level {self.level}) - General AI Agent\")\n",
    "\n",
    "    def get_secret_key(self):  # Access hidden data\n",
    "        return self.__secret_key\n",
    "\n",
    "    def __add__(self, other):  # Operator Overloading\n",
    "        return TeamAgent([self, other])\n",
    "\n",
    "\n",
    "# Subclass: TextAgent (Inheritance + Overriding)\n",
    "class TextAgent(Agent):\n",
    "    def describe(self):\n",
    "        print(f\"{self.name} specializes in text generation.\")\n",
    "\n",
    "\n",
    "# Subclass: ImageAgent (Inheritance + Overriding)\n",
    "class ImageAgent(Agent):\n",
    "    def describe(self):\n",
    "        print(f\"{self.name} specializes in image generation.\")\n",
    "\n",
    "\n",
    "# Task Class\n",
    "class Task:\n",
    "    def __init__(self, title, difficulty):\n",
    "        self.title = title\n",
    "        self.difficulty = difficulty\n",
    "\n",
    "\n",
    "# Task Manager (Method Overloading using *args)\n",
    "class TaskManager:\n",
    "    def assign_task(self, agent, *tasks):\n",
    "        for task in tasks:\n",
    "            agent.assign_task(task)\n",
    "\n",
    "\n",
    "# TeamAgent for Combined Abilities\n",
    "class TeamAgent(Agent):\n",
    "    def __init__(self, agents):\n",
    "        self.agents = agents\n",
    "\n",
    "    def describe(self):\n",
    "        print(\"This is a team of agents:\")\n",
    "        for agent in self.agents:\n",
    "            agent.describe()\n"
   ]
  },
  {
   "cell_type": "code",
   "execution_count": 2,
   "id": "74af7865",
   "metadata": {},
   "outputs": [
    {
     "name": "stdout",
     "output_type": "stream",
     "text": [
      "ChatGenie is assigned task: Summarize Report\n",
      "VisionBot is assigned task: Summarize Report\n",
      "VisionBot is assigned task: Generate Image\n",
      "AGENT-CH\n",
      "This is a team of agents:\n",
      "ChatGenie specializes in text generation.\n",
      "VisionBot specializes in image generation.\n"
     ]
    }
   ],
   "source": [
    "# Create Agents\n",
    "a1 = TextAgent(\"ChatGenie\", 2)\n",
    "a2 = ImageAgent(\"VisionBot\", 3)\n",
    "\n",
    "# Create Tasks\n",
    "t1 = Task(\"Summarize Report\", \"Medium\")\n",
    "t2 = Task(\"Generate Image\", \"High\")\n",
    "\n",
    "# Create Task Manager\n",
    "manager = TaskManager()\n",
    "\n",
    "# Assign single and multiple tasks\n",
    "manager.assign_task(a1, t1)\n",
    "manager.assign_task(a2, t1, t2)\n",
    "\n",
    "# Secret Key (Data Hiding Access)\n",
    "print(a1.get_secret_key())\n",
    "\n",
    "# Operator Overloading - Combine Agents\n",
    "team = a1 + a2\n",
    "team.describe()\n"
   ]
  },
  {
   "cell_type": "code",
   "execution_count": null,
   "id": "0053357f",
   "metadata": {},
   "outputs": [],
   "source": []
  }
 ],
 "metadata": {
  "kernelspec": {
   "display_name": "Python 3",
   "language": "python",
   "name": "python3"
  },
  "language_info": {
   "codemirror_mode": {
    "name": "ipython",
    "version": 3
   },
   "file_extension": ".py",
   "mimetype": "text/x-python",
   "name": "python",
   "nbconvert_exporter": "python",
   "pygments_lexer": "ipython3",
   "version": "3.13.1"
  }
 },
 "nbformat": 4,
 "nbformat_minor": 5
}
