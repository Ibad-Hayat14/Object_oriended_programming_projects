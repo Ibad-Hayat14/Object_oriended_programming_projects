{
 "cells": [
  {
   "cell_type": "code",
   "execution_count": 1,
   "id": "dd5f908b",
   "metadata": {},
   "outputs": [
    {
     "name": "stdout",
     "output_type": "stream",
     "text": [
      "Once upon a time ... [OpenAI Completed]\n",
      "In a galaxy far away ... [Anthropic Completed]\n"
     ]
    }
   ],
   "source": [
    "from abc import ABC, abstractmethod\n",
    "\n",
    "class LLM(ABC):\n",
    "    @abstractmethod\n",
    "    def complete_sentence(self, prompt): pass\n",
    "\n",
    "class OpenAI(LLM):\n",
    "    def complete_sentence(self, prompt):\n",
    "        return prompt + \" ... [OpenAI Completed]\"\n",
    "\n",
    "class Anthropic(LLM):\n",
    "    def complete_sentence(self, prompt):\n",
    "        return prompt + \" ... [Anthropic Completed]\"\n",
    "\n",
    "class ChatBot:\n",
    "    def _get_llm(self, provider):\n",
    "        if provider == \"OpenAI\":\n",
    "            return OpenAI()\n",
    "        elif provider == \"Anthropic\":\n",
    "            return Anthropic()\n",
    "        else:\n",
    "            raise ValueError(\"Unknown provider\")\n",
    "\n",
    "    def chat(self, prompt, provider):\n",
    "        llm = self._get_llm(provider)\n",
    "        return llm.complete_sentence(prompt)\n",
    "\n",
    "# Example usage\n",
    "bot = ChatBot()\n",
    "print(bot.chat(\"Once upon a time\", \"OpenAI\"))\n",
    "print(bot.chat(\"In a galaxy far away\", \"Anthropic\"))\n"
   ]
  },
  {
   "cell_type": "code",
   "execution_count": 6,
   "id": "829f7d64",
   "metadata": {},
   "outputs": [
    {
     "name": "stdout",
     "output_type": "stream",
     "text": [
      "Warehouse with 2 products\n",
      "Product(name=Laptop, quantity=15)\n",
      "Product(name=Mouse, quantity=25)\n"
     ]
    }
   ],
   "source": [
    "class Product:\n",
    "    def __init__(self, name, quantity):\n",
    "        self.name = name\n",
    "        self.quantity = quantity\n",
    "\n",
    "    def __add__(self, other):\n",
    "        if self.name != other.name:\n",
    "            raise ValueError(\"Products must be of the same type\")\n",
    "        return Product(self.name, self.quantity + other.quantity)\n",
    "\n",
    "    def __repr__(self):\n",
    "        return f\"Product(name={self.name}, quantity={self.quantity})\"\n",
    "\n",
    "class Warehouse:\n",
    "    def __init__(self):\n",
    "        self._products = []\n",
    "\n",
    "    def add_product(self, product):\n",
    "        self._products.append(product)\n",
    "\n",
    "    def __iter__(self):\n",
    "        return iter(self._products)\n",
    "\n",
    "    def __str__(self):\n",
    "        return f\"Warehouse with {len(self._products)} products\"\n",
    "\n",
    "# Example usage\n",
    "warehouse = Warehouse()\n",
    "p1 = Product(\"Laptop\", 10)\n",
    "p2 = Product(\"Laptop\", 5)\n",
    "warehouse.add_product(p1 + p2)\n",
    "\n",
    "p3 = Product(\"Mouse\", 25)\n",
    "warehouse.add_product(p3)\n",
    "\n",
    "print(warehouse)\n",
    "for product in warehouse:\n",
    "    print(product)\n"
   ]
  },
  {
   "cell_type": "code",
   "execution_count": null,
   "id": "2e3b7512",
   "metadata": {},
   "outputs": [],
   "source": []
  }
 ],
 "metadata": {
  "kernelspec": {
   "display_name": "Python 3",
   "language": "python",
   "name": "python3"
  },
  "language_info": {
   "codemirror_mode": {
    "name": "ipython",
    "version": 3
   },
   "file_extension": ".py",
   "mimetype": "text/x-python",
   "name": "python",
   "nbconvert_exporter": "python",
   "pygments_lexer": "ipython3",
   "version": "3.13.1"
  }
 },
 "nbformat": 4,
 "nbformat_minor": 5
}
