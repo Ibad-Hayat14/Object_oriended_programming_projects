{
 "cells": [
  {
   "cell_type": "code",
   "execution_count": null,
   "id": "e678e7cf",
   "metadata": {},
   "outputs": [
    {
     "name": "stdout",
     "output_type": "stream",
     "text": [
      "Invoice: Client Awais owes $1200\n",
      "Proposal: Client Rollin Details $Redesign Website\n",
      "Contract: Client Charles, Terms: Pay in two installments\n"
     ]
    }
   ],
   "source": [
    "from abc import ABC, abstractmethod\n",
    "\n",
    "class Document(ABC):\n",
    "    @abstractmethod\n",
    "    def render(self):\n",
    "        pass\n",
    "\n",
    "class Invoice(Document):\n",
    "    def __init__(self,client,amount):\n",
    "        self.client = client\n",
    "        self.amount = amount\n",
    "\n",
    "    def render(self):\n",
    "        return f\"Invoice: {self.client} owes ${self.amount}\"\n",
    "\n",
    "class Proposal(Document):\n",
    "    def __init__(self,client, detail):\n",
    "        self.client = client\n",
    "        self.detail = detail\n",
    "\n",
    "    def render(self):\n",
    "        return f\"Proposal: {self.client} Details {self.detail}\"\n",
    "\n",
    "class Contract(Document):\n",
    "    def __init__(self, client, terms):\n",
    "        self.client = client\n",
    "        self.terms = terms\n",
    "\n",
    "    def render(self):\n",
    "        return f\"Contract: {self.client}, Terms: {self.terms}\"\n",
    "    \n",
    "class DocumemtFactory:\n",
    "    def create_document(self,doc_type, *arg):\n",
    "        if doc_type == \"Invoice\":\n",
    "            return Invoice(*arg)\n",
    "        elif doc_type == \"Proposal\":\n",
    "            return Proposal(*arg)\n",
    "        elif doc_type == \"Contract\":\n",
    "            return Contract(*arg)\n",
    "        else:\n",
    "            raise ValueError(\"Invalid document type\")\n",
    "        \n",
    "factory = DocumemtFactory()\n",
    "doc1 = factory.create_document(\"Invoice\", \"Client Awais\", 1200)\n",
    "doc2 = factory.create_document(\"Proposal\", \"Client Rollin\", \"Redesign Website\")\n",
    "doc3 = factory.create_document(\"Contract\", \"Client Charles\", \"Pay in two installments\")\n",
    "\n",
    "print(doc1.render())\n",
    "print(doc2.render())\n",
    "print(doc3.render())"
   ]
  },
  {
   "cell_type": "code",
   "execution_count": null,
   "id": "a1877e00",
   "metadata": {},
   "outputs": [],
   "source": []
  }
 ],
 "metadata": {
  "kernelspec": {
   "display_name": "Python 3",
   "language": "python",
   "name": "python3"
  },
  "language_info": {
   "codemirror_mode": {
    "name": "ipython",
    "version": 3
   },
   "file_extension": ".py",
   "mimetype": "text/x-python",
   "name": "python",
   "nbconvert_exporter": "python",
   "pygments_lexer": "ipython3",
   "version": "3.13.1"
  }
 },
 "nbformat": 4,
 "nbformat_minor": 5
}
